{
 "cells": [
  {
   "cell_type": "code",
   "execution_count": 8,
   "id": "e64e7d9c-79f0-48c6-90db-7eea16012113",
   "metadata": {},
   "outputs": [
    {
     "name": "stderr",
     "output_type": "stream",
     "text": [
      "[nltk_data] Downloading package stopwords to\n",
      "[nltk_data]     C:\\Users\\ambik\\AppData\\Roaming\\nltk_data...\n",
      "[nltk_data]   Package stopwords is already up-to-date!\n"
     ]
    },
    {
     "data": {
      "text/plain": [
       "True"
      ]
     },
     "execution_count": 8,
     "metadata": {},
     "output_type": "execute_result"
    }
   ],
   "source": [
    "import requests\n",
    "from bs4 import BeautifulSoup\n",
    "from nltk.corpus import stopwords\n",
    "from collections import Counter\n",
    "import pandas as pd\n",
    "import nltk\n",
    "nltk.download('stopwords')"
   ]
  },
  {
   "cell_type": "code",
   "execution_count": 9,
   "id": "eaf62399-5e80-412d-8037-fcebd8365e26",
   "metadata": {},
   "outputs": [],
   "source": [
    "class WebScraper:\n",
    "    def __init__(self,url):\n",
    "        self.url=url\n",
    "    def extract_article_text(self):\n",
    "        response=requests.get(self.url)\n",
    "        html_content=response.content\n",
    "        soup=BeautifulSoup(html_content,'html.parser')\n",
    "        article_text=soup.get_text()\n",
    "        return article_text"
   ]
  },
  {
   "cell_type": "code",
   "execution_count": 10,
   "id": "9b36842f-2b26-4988-afa5-8a1e10f2a060",
   "metadata": {},
   "outputs": [],
   "source": [
    "class TextProcessor:\n",
    "    def __init__(self,nltk_stopwords):\n",
    "        self.nltk_stopwords=nltk_stopwords\n",
    "    def tokenize_and_clean(self,text):\n",
    "        words=text.split()\n",
    "        filtered_words=[word.lower() for word in words if word.isalpha() and word.lower() not in self.nltk_stopwords]\n",
    "        return filtered_words"
   ]
  },
  {
   "cell_type": "code",
   "execution_count": 13,
   "id": "454ba21f-2064-4274-8ab2-485c23f73a0f",
   "metadata": {},
   "outputs": [],
   "source": [
    "class ETLPipeline:\n",
    "    def __init__(self,url):\n",
    "        self.url=url\n",
    "        self.nltk_stopwords=set(stopwords.words('english'))\n",
    "    def run(self):\n",
    "        scraper=WebScraper(self.url)\n",
    "        article_text=scraper.extract_article_text()\n",
    "        processor=TextProcessor(self.nltk_stopwords)\n",
    "        filtered_words=processor.tokenize_and_clean(article_text)\n",
    "        word_freq=Counter(filtered_words)\n",
    "        df=pd.DataFrame(word_freq.items(),columns=['words','frequencies'])\n",
    "        df=df.sort_values(by='frequencies',ascending=False)\n",
    "        return df"
   ]
  },
  {
   "cell_type": "code",
   "execution_count": 14,
   "id": "7827722f-23e1-40bd-9005-b0945a773d88",
   "metadata": {},
   "outputs": [
    {
     "name": "stdout",
     "output_type": "stream",
     "text": [
      "       words  frequencies\n",
      "3       data           24\n",
      "1     series           24\n",
      "0       time           21\n",
      "2   analysis           14\n",
      "12   science            8\n"
     ]
    }
   ],
   "source": [
    "if __name__ == \"__main__\":\n",
    "    article_url = \"https://amankharwal.medium.com/what-is-time-series-analysis-in-data-science-f89aaa1c0814\"\n",
    "    pipeline = ETLPipeline(article_url)\n",
    "    result_df = pipeline.run()\n",
    "    print(result_df.head())"
   ]
  },
  {
   "cell_type": "code",
   "execution_count": null,
   "id": "f5336569-d645-4d63-95fe-bc3238afae13",
   "metadata": {},
   "outputs": [],
   "source": []
  }
 ],
 "metadata": {
  "kernelspec": {
   "display_name": "Python 3 (ipykernel)",
   "language": "python",
   "name": "python3"
  },
  "language_info": {
   "codemirror_mode": {
    "name": "ipython",
    "version": 3
   },
   "file_extension": ".py",
   "mimetype": "text/x-python",
   "name": "python",
   "nbconvert_exporter": "python",
   "pygments_lexer": "ipython3",
   "version": "3.12.4"
  }
 },
 "nbformat": 4,
 "nbformat_minor": 5
}
